{
 "cells": [
  {
   "cell_type": "code",
   "execution_count": 1,
   "id": "6ecfd72d",
   "metadata": {},
   "outputs": [
    {
     "ename": "NameError",
     "evalue": "name 'pint' is not defined",
     "output_type": "error",
     "traceback": [
      "\u001b[1;31m---------------------------------------------------------------------------\u001b[0m",
      "\u001b[1;31mNameError\u001b[0m                                 Traceback (most recent call last)",
      "\u001b[1;32m<ipython-input-1-801ca4ff937f>\u001b[0m in \u001b[0;36m<module>\u001b[1;34m\u001b[0m\n\u001b[1;32m----> 1\u001b[1;33m \u001b[0mpint\u001b[0m\u001b[1;33m(\u001b[0m\u001b[1;34m\"this is my first class\"\u001b[0m\u001b[1;33m)\u001b[0m\u001b[1;33m\u001b[0m\u001b[1;33m\u001b[0m\u001b[0m\n\u001b[0m",
      "\u001b[1;31mNameError\u001b[0m: name 'pint' is not defined"
     ]
    }
   ],
   "source": [
    "pint(\"this is my first class\")\n"
   ]
  },
  {
   "cell_type": "code",
   "execution_count": null,
   "id": "964181b1",
   "metadata": {},
   "outputs": [],
   "source": [
    "print(\"this is my first class\")\n",
    "\n"
   ]
  },
  {
   "cell_type": "code",
   "execution_count": null,
   "id": "5f2a5c76",
   "metadata": {},
   "outputs": [],
   "source": [
    "print(\"this is my first class\")\n",
    "print(\"this is my first class\")\n",
    "print(\"this is my first class\")\n",
    "print(\"this is my first class\")\n"
   ]
  },
  {
   "cell_type": "markdown",
   "id": "dc8978c5",
   "metadata": {},
   "source": [
    "# my name is abhui"
   ]
  },
  {
   "cell_type": "markdown",
   "id": "44dd21aa",
   "metadata": {},
   "source": [
    "write up"
   ]
  },
  {
   "cell_type": "raw",
   "id": "2bd97c4c",
   "metadata": {},
   "source": [
    "ssbhhedj\n"
   ]
  },
  {
   "cell_type": "code",
   "execution_count": null,
   "id": "116235bb",
   "metadata": {},
   "outputs": [],
   "source": []
  }
 ],
 "metadata": {
  "kernelspec": {
   "display_name": "Python 3",
   "language": "python",
   "name": "python3"
  },
  "language_info": {
   "codemirror_mode": {
    "name": "ipython",
    "version": 3
   },
   "file_extension": ".py",
   "mimetype": "text/x-python",
   "name": "python",
   "nbconvert_exporter": "python",
   "pygments_lexer": "ipython3",
   "version": "3.8.8"
  }
 },
 "nbformat": 4,
 "nbformat_minor": 5
}
